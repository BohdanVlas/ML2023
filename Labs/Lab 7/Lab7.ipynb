{
 "cells": [
  {
   "cell_type": "code",
   "execution_count": 1,
   "metadata": {},
   "outputs": [],
   "source": [
    "#Імпорт необхідних бібліотек\n",
    "import numpy as nmp\n",
    "import pandas as pnd\n",
    "import matplotlib.pyplot as ppl\n",
    "import tensorflow as tf\n",
    "from tensorflow.keras.preprocessing.image import ImageDataGenerator as idg"
   ]
  },
  {
   "cell_type": "code",
   "execution_count": 6,
   "metadata": {},
   "outputs": [
    {
     "name": "stdout",
     "output_type": "stream",
     "text": [
      "Found 1800 images belonging to 3 classes.\n",
      "Found 450 images belonging to 3 classes.\n",
      "Found 750 images belonging to 3 classes.\n",
      "Epoch 1/5\n",
      "57/57 [==============================] - 51s 878ms/step - loss: 4.7954 - accuracy: 0.5256 - val_loss: 0.8482 - val_accuracy: 0.6089\n",
      "Epoch 2/5\n",
      "57/57 [==============================] - 49s 866ms/step - loss: 0.7870 - accuracy: 0.6672 - val_loss: 0.7612 - val_accuracy: 0.6600\n",
      "Epoch 3/5\n",
      "57/57 [==============================] - 49s 867ms/step - loss: 0.7101 - accuracy: 0.7017 - val_loss: 0.7922 - val_accuracy: 0.6511\n",
      "Epoch 4/5\n",
      "57/57 [==============================] - 49s 861ms/step - loss: 0.6995 - accuracy: 0.7011 - val_loss: 0.7455 - val_accuracy: 0.6733\n",
      "Epoch 5/5\n",
      "57/57 [==============================] - 49s 865ms/step - loss: 0.6543 - accuracy: 0.7328 - val_loss: 0.7293 - val_accuracy: 0.6933\n",
      "24/24 [==============================] - 5s 201ms/step - loss: 0.8170 - accuracy: 0.6640\n",
      "Epoch 1/5\n",
      "57/57 [==============================] - 45s 784ms/step - loss: 1.0776 - accuracy: 0.4939 - val_loss: 0.8147 - val_accuracy: 0.6467\n",
      "Epoch 2/5\n",
      "57/57 [==============================] - 44s 775ms/step - loss: 0.8295 - accuracy: 0.6106 - val_loss: 0.7890 - val_accuracy: 0.6644\n",
      "Epoch 3/5\n",
      "57/57 [==============================] - 46s 797ms/step - loss: 0.7335 - accuracy: 0.6856 - val_loss: 0.7470 - val_accuracy: 0.6867\n",
      "Epoch 4/5\n",
      "57/57 [==============================] - 44s 767ms/step - loss: 0.6773 - accuracy: 0.7189 - val_loss: 0.7805 - val_accuracy: 0.6644\n",
      "Epoch 5/5\n",
      "57/57 [==============================] - 44s 775ms/step - loss: 0.6839 - accuracy: 0.7122 - val_loss: 0.7627 - val_accuracy: 0.6667\n",
      "24/24 [==============================] - 5s 194ms/step - loss: 0.7067 - accuracy: 0.6907\n",
      "Epoch 1/5\n",
      "57/57 [==============================] - 60s 1s/step - loss: 1.0033 - accuracy: 0.4828 - val_loss: 0.8795 - val_accuracy: 0.6044\n",
      "Epoch 2/5\n",
      "57/57 [==============================] - 60s 1s/step - loss: 0.8557 - accuracy: 0.5672 - val_loss: 0.8134 - val_accuracy: 0.6000\n",
      "Epoch 3/5\n",
      "57/57 [==============================] - 60s 1s/step - loss: 0.8436 - accuracy: 0.5861 - val_loss: 0.7869 - val_accuracy: 0.6244\n",
      "Epoch 4/5\n",
      "57/57 [==============================] - 59s 1s/step - loss: 0.8343 - accuracy: 0.5983 - val_loss: 0.7927 - val_accuracy: 0.6356\n",
      "Epoch 5/5\n",
      "57/57 [==============================] - 60s 1s/step - loss: 0.8254 - accuracy: 0.6100 - val_loss: 0.7937 - val_accuracy: 0.6156\n",
      "24/24 [==============================] - 5s 220ms/step - loss: 0.8201 - accuracy: 0.6600\n",
      "\n",
      "      Model  Accuracy      Loss\n",
      "0  Model 1  0.664000  0.816960\n",
      "1  Model 2  0.690667  0.706745\n",
      "2  Model 3  0.660000  0.820144\n"
     ]
    }
   ],
   "source": [
    "tf.random.set_seed(13)\n",
    "clas = ['ice_cream', 'steak', 'chicken_wings']\n",
    "traindat = idg(rescale=1./255, shear_range=0.2, zoom_range=0.2, horizontal_flip=True, validation_split=0.2)\n",
    "testdat = idg(rescale=1/255.)\n",
    "traindata = traindat.flow_from_directory('10_food_classes_all_data/train/', target_size=(225, 225), batch_size=32, class_mode='categorical', subset='training', seed=13, classes=clas)\n",
    "validationdata = traindat.flow_from_directory('10_food_classes_all_data/train/', target_size=(225, 225), batch_size=32, class_mode='categorical', subset='validation', seed=13, classes=clas)\n",
    "testdata = testdat.flow_from_directory('10_food_classes_all_data/test/', target_size=(225, 225), batch_size=32, class_mode='categorical', seed=13, classes=clas)\n",
    "mdl1 = tf.keras.models.Sequential([\n",
    "    tf.keras.layers.Conv2D(32, (3, 3), activation='relu', input_shape=(225, 225, 3)),\n",
    "    tf.keras.layers.MaxPooling2D(2, 2),\n",
    "    tf.keras.layers.Flatten(),\n",
    "    tf.keras.layers.Dense(128, activation='relu'),\n",
    "    tf.keras.layers.Dense(3, activation='softmax')\n",
    "])\n",
    "mdl1.compile(loss='categorical_crossentropy', optimizer=tf.keras.optimizers.Adam(), metrics=['accuracy'])\n",
    "mdl2 = tf.keras.models.Sequential([\n",
    "    tf.keras.layers.Conv2D(16, (3, 3), activation='relu', input_shape=(225, 225, 3)),\n",
    "    tf.keras.layers.MaxPooling2D(2, 2),\n",
    "    tf.keras.layers.Conv2D(32, (3, 3), activation='relu'),\n",
    "    tf.keras.layers.MaxPooling2D(2, 2),\n",
    "    tf.keras.layers.Conv2D(64, (3, 3), activation='relu'),\n",
    "    tf.keras.layers.MaxPooling2D(2, 2),\n",
    "    tf.keras.layers.Flatten(),\n",
    "    tf.keras.layers.Dense(128, activation='relu'),\n",
    "    tf.keras.layers.Dense(3, activation='softmax')\n",
    "])\n",
    "mdl2.compile(loss='categorical_crossentropy', optimizer=tf.keras.optimizers.Adam(), metrics=['accuracy'])\n",
    "mdl3 = tf.keras.models.Sequential([\n",
    "    tf.keras.layers.Conv2D(16, (3, 3), activation='relu', input_shape=(225, 225, 3)),\n",
    "    tf.keras.layers.Conv2D(16, (3, 3), activation='relu'),\n",
    "    tf.keras.layers.MaxPooling2D(2, 2),\n",
    "    tf.keras.layers.Conv2D(32, (3, 3), activation='relu'),\n",
    "    tf.keras.layers.Conv2D(32, (3, 3), activation='relu'),\n",
    "    tf.keras.layers.MaxPooling2D(2, 2),\n",
    "    tf.keras.layers.Conv2D(64, (3, 3), activation='relu'),\n",
    "    tf.keras.layers.Conv2D(64, (3, 3), activation='relu'),\n",
    "    tf.keras.layers.MaxPooling2D(2, 2),\n",
    "    tf.keras.layers.Flatten(),\n",
    "    tf.keras.layers.Dense(128, activation='relu'),\n",
    "    tf.keras.layers.Dropout(0.5),\n",
    "    tf.keras.layers.Dense(3, activation='softmax')\n",
    "])\n",
    "mdl3.compile(loss='categorical_crossentropy', optimizer=tf.keras.optimizers.Adam(), metrics=['accuracy'])\n",
    "mdl1.fit(traindata, epochs=5, validation_data=validationdata)\n",
    "mdl1loss, mdl1acc = mdl1.evaluate(testdata)\n",
    "mdl2.fit(traindata, epochs=5, validation_data=validationdata)\n",
    "mdl2loss, mdl2acc = mdl2.evaluate(testdata)\n",
    "mdl3.fit(traindata, epochs=5, validation_data=validationdata)\n",
    "mdl3loss, mdl3acc = mdl3.evaluate(testdata)\n",
    "res = [['Model 1', mdl1acc, mdl1loss], ['Model 2', mdl2acc, mdl2loss], ['Model 3', mdl3acc, mdl3loss]]\n",
    "resframe = pnd.DataFrame(res, columns=['Model', 'Accuracy', 'Loss'])\n",
    "print('\\n', resframe)"
   ]
  }
 ],
 "metadata": {
  "kernelspec": {
   "display_name": "Python 3.8.18 ('ml2023')",
   "language": "python",
   "name": "python3"
  },
  "language_info": {
   "codemirror_mode": {
    "name": "ipython",
    "version": 3
   },
   "file_extension": ".py",
   "mimetype": "text/x-python",
   "name": "python",
   "nbconvert_exporter": "python",
   "pygments_lexer": "ipython3",
   "version": "3.8.18"
  },
  "orig_nbformat": 4,
  "vscode": {
   "interpreter": {
    "hash": "dfd3de4df113c9a7cd7a0c4aa5428b97edc4f58899c99c46e09e772ebe657ed7"
   }
  }
 },
 "nbformat": 4,
 "nbformat_minor": 2
}
