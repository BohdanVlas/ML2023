{
 "cells": [
  {
   "cell_type": "code",
   "execution_count": 1,
   "metadata": {},
   "outputs": [],
   "source": [
    "import numpy as nmp\n",
    "import pandas as pnd\n",
    "import matplotlib.pyplot as ppl\n",
    "from sklearn.metrics import mean_absolute_error as mae\n",
    "from sklearn.metrics import mean_squared_error as mse"
   ]
  },
  {
   "cell_type": "code",
   "execution_count": 119,
   "metadata": {},
   "outputs": [
    {
     "name": "stdout",
     "output_type": "stream",
     "text": [
      "[ 3  6  9 12 15 18 21 24 27]\n",
      "[ 2  4 12  1 10  3  6  9  4]\n",
      "\n",
      " [[3 7 8 7 5]\n",
      " [2 4 1 5 4]\n",
      " [4 2 4 8 1]\n",
      " [2 6 7 5 3]\n",
      " [2 9 3 7 1]]\n",
      "\n",
      " [[8 1 5 5 7]\n",
      " [4 5 7 5 7]\n",
      " [3 3 1 4 1]\n",
      " [2 5 1 9 2]\n",
      " [1 6 7 7 6]]\n",
      "\n",
      "Скалярний добуток:\n",
      "\n",
      " [[ 70 163 141 175  71]\n",
      " [ 74 155 121 183  69]\n",
      " [ 29  68  62  71  41]\n",
      " [ 42 108  94 106  60]\n",
      " [ 69 141 109 170  63]]\n",
      "\n",
      "Вектор 4-го рядка із скалярного добутку:\n",
      "\n",
      " [ 42 108  94 106  60]\n"
     ]
    }
   ],
   "source": [
    "#NumPy 1\n",
    "arr = nmp.arange(start=3, stop=30, step=3)\n",
    "print(arr)\n",
    "rarr = nmp.random.randint(13, size=9)\n",
    "print(rarr)\n",
    "\n",
    "arr1 = nmp.random.randint(1, 10, (5, 5))\n",
    "print('\\n', arr1)\n",
    "arr2 = nmp.random.randint(1, 10, (5, 5))\n",
    "print('\\n', arr2)\n",
    "\n",
    "sc = nmp.dot(arr2, arr1)\n",
    "print('\\nСкалярний добуток:\\n\\n', sc)\n",
    "\n",
    "print('\\nВектор 4-го рядка із скалярного добутку:\\n\\n', sc[3, :])"
   ]
  },
  {
   "cell_type": "code",
   "execution_count": 120,
   "metadata": {},
   "outputs": [
    {
     "name": "stdout",
     "output_type": "stream",
     "text": [
      "Матриця 1:\n",
      " [[3 4 9]\n",
      " [1 3 8]\n",
      " [2 6 3]] \n",
      "\n",
      "Матриця 2:\n",
      " [[1 6 3]\n",
      " [8 1 3]\n",
      " [5 4 1]]\n",
      "\n",
      "Сума матриць 1 і 2\n",
      " [[ 4 10 12]\n",
      " [ 9  4 11]\n",
      " [ 7 10  4]] \n",
      "\n",
      "Різниця матриць 2 і 1\n",
      " [[-2  2 -6]\n",
      " [ 7 -2 -5]\n",
      " [ 3 -2 -2]] \n",
      "\n",
      "Добуток матриць 1 і 2\n",
      " [[80 58 30]\n",
      " [65 41 20]\n",
      " [65 30 27]] \n",
      "\n",
      "Транспонування матриці 2\n",
      " [[1 8 5]\n",
      " [6 1 4]\n",
      " [3 3 1]]\n"
     ]
    }
   ],
   "source": [
    "#NumPy 2\n",
    "matr1 = nmp.matrix([\n",
    "    [3, 4, 9],\n",
    "    [1, 3, 8],\n",
    "    [2, 6, 3]\n",
    "])\n",
    "matr2 = nmp.matrix([\n",
    "    [1, 6, 3],\n",
    "    [8, 1, 3],\n",
    "    [5, 4, 1]\n",
    "])\n",
    "print('Матриця 1:\\n', matr1, '\\n\\nМатриця 2:\\n', matr2)\n",
    "print('\\nСума матриць 1 і 2\\n', matr1+matr2, '\\n\\nРізниця матриць 2 і 1\\n', matr2-matr1, '\\n\\nДобуток матриць 1 і 2\\n', nmp.dot(matr1, matr2), '\\n\\nТранспонування матриці 2\\n', matr2.T)"
   ]
  },
  {
   "cell_type": "code",
   "execution_count": 121,
   "metadata": {},
   "outputs": [
    {
     "name": "stdout",
     "output_type": "stream",
     "text": [
      "   Танковий взвод\n",
      "\n",
      "  1-ий танковий екіпаж\n",
      "\n",
      "             Звання                             Посада     Прізвище Вік\n",
      "0  Старший сержант  Командир танкового екіпажу(танку)     Петришин  33\n",
      "1   Старший солдат                  Оператор-навідник   Маринченко  31\n",
      "2   Старший солдат                             Мехвод  Язловецький  29 \n",
      "\n",
      "  2-ий танковий екіпаж\n",
      "\n",
      "            Звання                             Посада     Прізвище Вік\n",
      "0         Сержант  Командир танкового екіпажу(танку)      Голомша  32\n",
      "1  Старший солдат                  Оператор-навідник  Поплавський  30\n",
      "2  Старший солдат                             Мехвод      Животко  28 \n",
      "\n",
      "  3-ій танковий екіпаж\n",
      "\n",
      "             Звання                             Посада  Прізвище Вік\n",
      "0  Старший сержант  Командир танкового екіпажу(танку)   Бородай  30\n",
      "1   Старший солдат                  Оператор-навідник  Кушнірук  29\n",
      "2   Старший солдат                             Мехвод  Балабуха  28 \n",
      "\n",
      "  4-ий танковий екіпаж\n",
      "\n",
      "            Звання                             Посада     Прізвище Вік\n",
      "0         Сержант  Командир танкового екіпажу(танку)    Прохасько  31\n",
      "1  Старший солдат                  Оператор-навідник      Ковалик  27\n",
      "2  Старший солдат                             Мехвод  Вертинський  29\n"
     ]
    }
   ],
   "source": [
    "#Pandas 1\n",
    "vzvod = [\n",
    "    [\n",
    "        ['Старший сержант', 'Командир танкового екіпажу(танку)', 'Петришин', '33'],\n",
    "        ['Старший солдат', 'Оператор-навідник', 'Маринченко', '31'],\n",
    "        ['Старший солдат', 'Мехвод', 'Язловецький', '29']\n",
    "    ],\n",
    "    [\n",
    "        ['Сержант', 'Командир танкового екіпажу(танку)', 'Голомша', '32'],\n",
    "        ['Старший солдат', 'Оператор-навідник', 'Поплавський', '30'],\n",
    "        ['Старший солдат', 'Мехвод', 'Животко', '28']\n",
    "    ],\n",
    "    [\n",
    "        ['Старший сержант', 'Командир танкового екіпажу(танку)', 'Бородай', '30'],\n",
    "        ['Старший солдат', 'Оператор-навідник', 'Кушнірук', '29'],\n",
    "        ['Старший солдат', 'Мехвод', 'Балабуха', '28']\n",
    "    ],\n",
    "    [\n",
    "        ['Сержант', 'Командир танкового екіпажу(танку)', 'Прохасько', '31'],\n",
    "        ['Старший солдат', 'Оператор-навідник', 'Ковалик', '27'],\n",
    "        ['Старший солдат', 'Мехвод', 'Вертинський', '29']\n",
    "    ]\n",
    "]\n",
    "columns = ['Звання', 'Посада', 'Прізвище', 'Вік']\n",
    "ekip1 = pnd.DataFrame(vzvod[0], columns=columns)\n",
    "ekip2 = pnd.DataFrame(vzvod[1], columns=columns)\n",
    "ekip3 = pnd.DataFrame(vzvod[2], columns=columns)\n",
    "ekip4 = pnd.DataFrame(vzvod[3], columns=columns)\n",
    "print('   Танковий взвод\\n\\n  1-ий танковий екіпаж\\n\\n', ekip1, '\\n\\n  2-ий танковий екіпаж\\n\\n', ekip2, '\\n\\n  3-ій танковий екіпаж\\n\\n', ekip3, '\\n\\n  4-ий танковий екіпаж\\n\\n', ekip4)"
   ]
  },
  {
   "cell_type": "code",
   "execution_count": 122,
   "metadata": {},
   "outputs": [
    {
     "name": "stdout",
     "output_type": "stream",
     "text": [
      "  2-ий танковий екіпаж\n",
      "\n",
      "            Звання                             Посада     Прізвище  Вік\n",
      "0         Сержант  Командир танкового екіпажу(танку)      Голомша   32\n",
      "1  Старший солдат                  Оператор-навідник  Поплавський   30\n",
      "2  Старший солдат                             Мехвод      Животко   28\n",
      "\n",
      "\n",
      "  3-ій танковий екіпаж\n",
      "\n",
      "            Звання                             Посада  Прізвище Вік\n",
      "0         Сержант  Командир танкового екіпажу(танку)   Бородай  30\n",
      "1  Старший солдат                  Оператор-навідник  Кушнірук  29\n",
      "2  Старший солдат                             Мехвод  Балабуха  28\n"
     ]
    }
   ],
   "source": [
    "#Pandas 2\n",
    "tekip_2 = {\n",
    "    'Звання': ['Сержант', 'Старший солдат', 'Старший солдат'],\n",
    "    'Посада': ['Командир танкового екіпажу(танку)', 'Оператор-навідник', 'Мехвод'],\n",
    "    'Прізвище': ['Голомша', 'Поплавський', 'Животко'],\n",
    "    'Вік': [32, 30, 28]\n",
    "}\n",
    "tekip2 = pnd.DataFrame(tekip_2)\n",
    "print('  2-ий танковий екіпаж\\n\\n', tekip2)\n",
    "\n",
    "tekip_3 = [\n",
    "    {'Звання': 'Сержант', 'Посада': 'Командир танкового екіпажу(танку)', 'Прізвище': 'Бородай', 'Вік': '30'},\n",
    "    {'Звання': 'Старший солдат', 'Посада': 'Оператор-навідник', 'Прізвище': 'Кушнірук', 'Вік': '29'},\n",
    "    {'Звання': 'Старший солдат', 'Посада': 'Мехвод', 'Прізвище': 'Балабуха', 'Вік': '28'}\n",
    "]\n",
    "tekip3 = pnd.DataFrame(tekip_3)\n",
    "print('\\n\\n  3-ій танковий екіпаж\\n\\n', tekip3)"
   ]
  },
  {
   "cell_type": "code",
   "execution_count": 123,
   "metadata": {},
   "outputs": [
    {
     "name": "stdout",
     "output_type": "stream",
     "text": [
      "                Звання                             Посада  Прізвище Вік\n",
      "count                3                                  3         3   3\n",
      "unique               2                                  3         3   3\n",
      "top     Старший солдат  Командир танкового екіпажу(танку)  Петришин  33\n",
      "freq                 2                                  1         1   1 \n",
      "\n",
      "                Звання                             Посада Прізвище Вік\n",
      "count                3                                  3        3   3\n",
      "unique               2                                  3        3   3\n",
      "top     Старший солдат  Командир танкового екіпажу(танку)  Голомша  32\n",
      "freq                 2                                  1        1   1 \n",
      "\n",
      "                Звання                             Посада Прізвище Вік\n",
      "count                3                                  3        3   3\n",
      "unique               2                                  3        3   3\n",
      "top     Старший солдат  Командир танкового екіпажу(танку)  Бородай  30\n",
      "freq                 2                                  1        1   1 \n",
      "\n",
      "                Звання                             Посада   Прізвище Вік\n",
      "count                3                                  3          3   3\n",
      "unique               2                                  3          3   3\n",
      "top     Старший солдат  Командир танкового екіпажу(танку)  Прохасько  31\n",
      "freq                 2                                  1          1   1 \n",
      "\n"
     ]
    }
   ],
   "source": [
    "#Pandas 3\n",
    "print(ekip1.describe(), '\\n')\n",
    "print(ekip2.describe(), '\\n')\n",
    "print(ekip3.describe(), '\\n')\n",
    "print(ekip4.describe(), '\\n')"
   ]
  },
  {
   "cell_type": "code",
   "execution_count": 124,
   "metadata": {},
   "outputs": [
    {
     "name": "stdout",
     "output_type": "stream",
     "text": [
      "   Сержантський склад взводу:\n",
      "\n",
      "            Звання                             Посада  Прізвище Вік\n",
      "0  Старший сержант  Командир танкового екіпажу(танку)  Петришин  33 \n",
      "\n",
      "    Звання                             Посада Прізвище Вік\n",
      "0  Сержант  Командир танкового екіпажу(танку)  Голомша  32 \n",
      "\n",
      "            Звання                             Посада Прізвище Вік\n",
      "0  Старший сержант  Командир танкового екіпажу(танку)  Бородай  30 \n",
      "\n",
      "    Звання                             Посада   Прізвище Вік\n",
      "0  Сержант  Командир танкового екіпажу(танку)  Прохасько  31 \n",
      "\n",
      "\n",
      " Сержант   Прохасько \n",
      "\n",
      " Старший солдат   Ковалик \n",
      "\n",
      " Старший солдат   Вертинський\n"
     ]
    }
   ],
   "source": [
    "#Pandas 4\n",
    "print('   Сержантський склад взводу:\\n')\n",
    "print(ekip1.head(1), '\\n')\n",
    "print(ekip2.head(1), '\\n')\n",
    "print(ekip3.head(1), '\\n')\n",
    "print(ekip4.head(1), '\\n')\n",
    "\n",
    "ranks = ekip4['Звання']\n",
    "surnames = ekip4['Прізвище']\n",
    "print('\\n',ranks[0],' ',surnames[0],'\\n\\n',ranks[1],' ',surnames[1],'\\n\\n',ranks[2],' ',surnames[2])"
   ]
  },
  {
   "cell_type": "code",
   "execution_count": 125,
   "metadata": {},
   "outputs": [
    {
     "name": "stdout",
     "output_type": "stream",
     "text": [
      "Звання         Старший солдат\n",
      "Посада      Оператор-навідник\n",
      "Прізвище          Поплавський\n",
      "Вік                        30\n",
      "Name: 1, dtype: object\n",
      "\n",
      "\n",
      " Старший солдат\n"
     ]
    }
   ],
   "source": [
    "#Pandas 5\n",
    "secondrow = tekip2.iloc[1]\n",
    "print(secondrow)\n",
    "rankofsecondrow = tekip2.iloc[1, tekip2.columns.get_loc('Звання')]\n",
    "print('\\n\\n',rankofsecondrow)"
   ]
  },
  {
   "cell_type": "code",
   "execution_count": 126,
   "metadata": {},
   "outputs": [
    {
     "name": "stdout",
     "output_type": "stream",
     "text": [
      "  4-ий танковий екіпаж\n",
      "\n",
      "            Звання                             Посада     Прізвище  Вік\n",
      "k         Сержант  Командир танкового екіпажу(танку)    Прохасько   31\n",
      "o  Старший солдат                  Оператор-навідник      Ковалик   27\n",
      "m  Старший солдат                             Мехвод  Вертинський   29\n",
      "\n",
      " Звання                                Сержант\n",
      "Посада      Командир танкового екіпажу(танку)\n",
      "Прізвище                            Прохасько\n",
      "Вік                                        31\n",
      "Name: k, dtype: object\n",
      "\n",
      " Старший солдат   Оператор-навідник  Ковалик\n"
     ]
    }
   ],
   "source": [
    "#Pandas 6\n",
    "tekip_4 = {\n",
    "    'Звання': ['Сержант', 'Старший солдат', 'Старший солдат'],\n",
    "    'Посада': ['Командир танкового екіпажу(танку)', 'Оператор-навідник', 'Мехвод'],\n",
    "    'Прізвище': ['Прохасько', 'Ковалик', 'Вертинський'],\n",
    "    'Вік': [31, 27, 29]\n",
    "}\n",
    "tekip4 = pnd.DataFrame(tekip_4, index=['k', 'o', 'm'])\n",
    "print('  4-ий танковий екіпаж\\n\\n', tekip4)\n",
    "print('\\n', tekip4.loc['k'])\n",
    "print('\\n', tekip4.loc['o', 'Звання'], ' ', tekip4.loc['o', 'Посада'], '', tekip4.loc['o', 'Прізвище'])"
   ]
  },
  {
   "cell_type": "code",
   "execution_count": 127,
   "metadata": {},
   "outputs": [
    {
     "data": {
      "image/png": "[encoded data removed]",
      "text/plain": [
       "<Figure size 640x480 with 1 Axes>"
      ]
     },
     "metadata": {},
     "output_type": "display_data"
    }
   ],
   "source": [
    "#Matplotlib\n",
    "x = nmp.linspace(0, 60, 30)\n",
    "er = nmp.random.normal(0, 3, 30)\n",
    "y = (x*3 + 0.5)\n",
    "ye = y + er\n",
    "yh = x*3 + 0.5\n",
    "ma = mae(y, yh)\n",
    "me = mse(y, yh)\n",
    "res = pnd.DataFrame({\n",
    "    'x': x,\n",
    "    'y': y,\n",
    "    'y_hat': yh,\n",
    "    'MAE': ma,\n",
    "    'MSE': me\n",
    "})\n",
    "res.to_csv('Matplotlib.csv', index=False)\n",
    "ppl.scatter(x, ye, label='З помилками', c='red', marker='*')\n",
    "ppl.plot(x, y, label='Точна функція', linestyle='-', c='yellow')\n",
    "ppl.plot(x, yh, label='Прогноз', linestyle='--', c='lightgreen')\n",
    "ppl.title('Графік')\n",
    "ppl.xlabel('x')\n",
    "ppl.ylabel('y')\n",
    "ppl.legend()\n",
    "ppl.show(close=None, block=None)"
   ]
  }
 ],
 "metadata": {
  "kernelspec": {
   "display_name": "Python 3.8.18 ('ml2023')",
   "language": "python",
   "name": "python3"
  },
  "language_info": {
   "codemirror_mode": {
    "name": "ipython",
    "version": 3
   },
   "file_extension": ".py",
   "mimetype": "text/x-python",
   "name": "python",
   "nbconvert_exporter": "python",
   "pygments_lexer": "ipython3",
   "version": "3.8.18"
  },
  "orig_nbformat": 4,
  "vscode": {
   "interpreter": {
    "hash": "dfd3de4df113c9a7cd7a0c4aa5428b97edc4f58899c99c46e09e772ebe657ed7"
   }
  }
 },
 "nbformat": 4,
 "nbformat_minor": 2
}
